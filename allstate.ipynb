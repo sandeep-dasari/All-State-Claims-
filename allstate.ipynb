{
  "nbformat": 4,
  "nbformat_minor": 0,
  "metadata": {
    "colab": {
      "name": "allstate.ipynb",
      "provenance": [],
      "collapsed_sections": []
    },
    "kernelspec": {
      "name": "python3",
      "display_name": "Python 3"
    },
    "language_info": {
      "name": "python"
    }
  },
  "cells": [
    {
      "cell_type": "code",
      "metadata": {
        "id": "SPExM894RFxs"
      },
      "source": [
        "import numpy as np\n",
        "import pandas as pd\n",
        "import matplotlib.pyplot as plt\n",
        "import seaborn as sns\n",
        "\n"
      ],
      "execution_count": null,
      "outputs": []
    },
    {
      "cell_type": "markdown",
      "metadata": {
        "id": "qSYz6dhUcj22"
      },
      "source": [
        "**DATA WRANGLING/MUNGING-**\n",
        "This process becomes part of your data pipeline. Here is a short list of typical data munging tasks, but there potentially are many more depending on the data:\n",
        "\n",
        "\n",
        "Data sampling\n",
        "Create new variables\n",
        "Discretize quantitative variables\n",
        "Date handling (e.g. changing dates stored as integers to R date objects)\n",
        "Merge, order, reshape data sets\n",
        "Other data manipulations such as changing categorical variables to multiple binary variables\n",
        "Handling missing data\n",
        "Feature scaling\n",
        "Dimensionality reduction"
      ]
    },
    {
      "cell_type": "markdown",
      "metadata": {
        "id": "LFjeqiJvfIqD"
      },
      "source": [
        "https://towardsai.net/p/data-analysis/exploratory-data-analysis-in-python-ebdf643a33f6\n",
        "\n",
        "https://www.kaggle.com/general/188478\n",
        "https://statisticsbyjim.com/basics/outliers/\n",
        "https://towardsdatascience.com/an-extensive-guide-to-exploratory-data-analysis-ddd99a03199e\n",
        "\n",
        "https://www.data-to-viz.com/graph/density.html"
      ]
    },
    {
      "cell_type": "code",
      "metadata": {
        "id": "4y2HDzJ3T4B7"
      },
      "source": [
        "df= pd.read_csv('/content/drive/MyDrive/allstate.csv')\n"
      ],
      "execution_count": null,
      "outputs": []
    },
    {
      "cell_type": "code",
      "metadata": {
        "colab": {
          "base_uri": "https://localhost:8080/"
        },
        "id": "Fr0RLJ2KUr20",
        "outputId": "39dc4523-e4a0-4f7d-d079-3b862faf4e03"
      },
      "source": [
        "df.head\n"
      ],
      "execution_count": null,
      "outputs": [
        {
          "output_type": "execute_result",
          "data": {
            "text/plain": [
              "<bound method NDFrame.head of             id cat1 cat2 cat3  ...    cont12    cont13    cont14     loss\n",
              "0            1    A    B    A  ...  0.594646  0.822493  0.714843  2213.18\n",
              "1            2    A    B    A  ...  0.366307  0.611431  0.304496  1283.60\n",
              "2            5    A    B    A  ...  0.373424  0.195709  0.774425  3005.09\n",
              "3           10    B    B    A  ...  0.321570  0.605077  0.602642   939.85\n",
              "4           11    A    B    A  ...  0.202213  0.246011  0.432606  2763.85\n",
              "...        ...  ...  ...  ...  ...       ...       ...       ...      ...\n",
              "188313  587620    A    B    A  ...  0.220003  0.333292  0.208216  1198.62\n",
              "188314  587624    A    A    A  ...  0.301921  0.318646  0.305872  1108.34\n",
              "188315  587630    A    B    A  ...  0.443374  0.339244  0.503888  5762.64\n",
              "188316  587632    A    B    A  ...  0.852865  0.654753  0.721707  1562.87\n",
              "188317  587633    B    A    A  ...  0.946432  0.810511  0.721460  4751.72\n",
              "\n",
              "[188318 rows x 132 columns]>"
            ]
          },
          "metadata": {
            "tags": []
          },
          "execution_count": 3
        }
      ]
    },
    {
      "cell_type": "code",
      "metadata": {
        "colab": {
          "base_uri": "https://localhost:8080/",
          "height": 317
        },
        "id": "xaBLzLkxU_mU",
        "outputId": "532ccc27-caa1-4cbe-a8fa-114410dab3ee"
      },
      "source": [
        "df.describe()\n"
      ],
      "execution_count": null,
      "outputs": [
        {
          "output_type": "execute_result",
          "data": {
            "text/html": [
              "<div>\n",
              "<style scoped>\n",
              "    .dataframe tbody tr th:only-of-type {\n",
              "        vertical-align: middle;\n",
              "    }\n",
              "\n",
              "    .dataframe tbody tr th {\n",
              "        vertical-align: top;\n",
              "    }\n",
              "\n",
              "    .dataframe thead th {\n",
              "        text-align: right;\n",
              "    }\n",
              "</style>\n",
              "<table border=\"1\" class=\"dataframe\">\n",
              "  <thead>\n",
              "    <tr style=\"text-align: right;\">\n",
              "      <th></th>\n",
              "      <th>id</th>\n",
              "      <th>cont1</th>\n",
              "      <th>cont2</th>\n",
              "      <th>cont3</th>\n",
              "      <th>cont4</th>\n",
              "      <th>cont5</th>\n",
              "      <th>cont6</th>\n",
              "      <th>cont7</th>\n",
              "      <th>cont8</th>\n",
              "      <th>cont9</th>\n",
              "      <th>cont10</th>\n",
              "      <th>cont11</th>\n",
              "      <th>cont12</th>\n",
              "      <th>cont13</th>\n",
              "      <th>cont14</th>\n",
              "      <th>loss</th>\n",
              "    </tr>\n",
              "  </thead>\n",
              "  <tbody>\n",
              "    <tr>\n",
              "      <th>count</th>\n",
              "      <td>188318.000000</td>\n",
              "      <td>188318.000000</td>\n",
              "      <td>188318.000000</td>\n",
              "      <td>188318.000000</td>\n",
              "      <td>188318.000000</td>\n",
              "      <td>188318.000000</td>\n",
              "      <td>188318.000000</td>\n",
              "      <td>188318.000000</td>\n",
              "      <td>188318.000000</td>\n",
              "      <td>188318.000000</td>\n",
              "      <td>188318.000000</td>\n",
              "      <td>188318.000000</td>\n",
              "      <td>188318.000000</td>\n",
              "      <td>188318.000000</td>\n",
              "      <td>188318.000000</td>\n",
              "      <td>188318.000000</td>\n",
              "    </tr>\n",
              "    <tr>\n",
              "      <th>mean</th>\n",
              "      <td>294135.982561</td>\n",
              "      <td>0.493861</td>\n",
              "      <td>0.507188</td>\n",
              "      <td>0.498918</td>\n",
              "      <td>0.491812</td>\n",
              "      <td>0.487428</td>\n",
              "      <td>0.490945</td>\n",
              "      <td>0.484970</td>\n",
              "      <td>0.486437</td>\n",
              "      <td>0.485506</td>\n",
              "      <td>0.498066</td>\n",
              "      <td>0.493511</td>\n",
              "      <td>0.493150</td>\n",
              "      <td>0.493138</td>\n",
              "      <td>0.495717</td>\n",
              "      <td>3037.337686</td>\n",
              "    </tr>\n",
              "    <tr>\n",
              "      <th>std</th>\n",
              "      <td>169336.084867</td>\n",
              "      <td>0.187640</td>\n",
              "      <td>0.207202</td>\n",
              "      <td>0.202105</td>\n",
              "      <td>0.211292</td>\n",
              "      <td>0.209027</td>\n",
              "      <td>0.205273</td>\n",
              "      <td>0.178450</td>\n",
              "      <td>0.199370</td>\n",
              "      <td>0.181660</td>\n",
              "      <td>0.185877</td>\n",
              "      <td>0.209737</td>\n",
              "      <td>0.209427</td>\n",
              "      <td>0.212777</td>\n",
              "      <td>0.222488</td>\n",
              "      <td>2904.086186</td>\n",
              "    </tr>\n",
              "    <tr>\n",
              "      <th>min</th>\n",
              "      <td>1.000000</td>\n",
              "      <td>0.000016</td>\n",
              "      <td>0.001149</td>\n",
              "      <td>0.002634</td>\n",
              "      <td>0.176921</td>\n",
              "      <td>0.281143</td>\n",
              "      <td>0.012683</td>\n",
              "      <td>0.069503</td>\n",
              "      <td>0.236880</td>\n",
              "      <td>0.000080</td>\n",
              "      <td>0.000000</td>\n",
              "      <td>0.035321</td>\n",
              "      <td>0.036232</td>\n",
              "      <td>0.000228</td>\n",
              "      <td>0.179722</td>\n",
              "      <td>0.670000</td>\n",
              "    </tr>\n",
              "    <tr>\n",
              "      <th>25%</th>\n",
              "      <td>147748.250000</td>\n",
              "      <td>0.346090</td>\n",
              "      <td>0.358319</td>\n",
              "      <td>0.336963</td>\n",
              "      <td>0.327354</td>\n",
              "      <td>0.281143</td>\n",
              "      <td>0.336105</td>\n",
              "      <td>0.350175</td>\n",
              "      <td>0.312800</td>\n",
              "      <td>0.358970</td>\n",
              "      <td>0.364580</td>\n",
              "      <td>0.310961</td>\n",
              "      <td>0.311661</td>\n",
              "      <td>0.315758</td>\n",
              "      <td>0.294610</td>\n",
              "      <td>1204.460000</td>\n",
              "    </tr>\n",
              "    <tr>\n",
              "      <th>50%</th>\n",
              "      <td>294539.500000</td>\n",
              "      <td>0.475784</td>\n",
              "      <td>0.555782</td>\n",
              "      <td>0.527991</td>\n",
              "      <td>0.452887</td>\n",
              "      <td>0.422268</td>\n",
              "      <td>0.440945</td>\n",
              "      <td>0.438285</td>\n",
              "      <td>0.441060</td>\n",
              "      <td>0.441450</td>\n",
              "      <td>0.461190</td>\n",
              "      <td>0.457203</td>\n",
              "      <td>0.462286</td>\n",
              "      <td>0.363547</td>\n",
              "      <td>0.407403</td>\n",
              "      <td>2115.570000</td>\n",
              "    </tr>\n",
              "    <tr>\n",
              "      <th>75%</th>\n",
              "      <td>440680.500000</td>\n",
              "      <td>0.623912</td>\n",
              "      <td>0.681761</td>\n",
              "      <td>0.634224</td>\n",
              "      <td>0.652072</td>\n",
              "      <td>0.643315</td>\n",
              "      <td>0.655021</td>\n",
              "      <td>0.591045</td>\n",
              "      <td>0.623580</td>\n",
              "      <td>0.566820</td>\n",
              "      <td>0.614590</td>\n",
              "      <td>0.678924</td>\n",
              "      <td>0.675759</td>\n",
              "      <td>0.689974</td>\n",
              "      <td>0.724623</td>\n",
              "      <td>3864.045000</td>\n",
              "    </tr>\n",
              "    <tr>\n",
              "      <th>max</th>\n",
              "      <td>587633.000000</td>\n",
              "      <td>0.984975</td>\n",
              "      <td>0.862654</td>\n",
              "      <td>0.944251</td>\n",
              "      <td>0.954297</td>\n",
              "      <td>0.983674</td>\n",
              "      <td>0.997162</td>\n",
              "      <td>1.000000</td>\n",
              "      <td>0.980200</td>\n",
              "      <td>0.995400</td>\n",
              "      <td>0.994980</td>\n",
              "      <td>0.998742</td>\n",
              "      <td>0.998484</td>\n",
              "      <td>0.988494</td>\n",
              "      <td>0.844848</td>\n",
              "      <td>121012.250000</td>\n",
              "    </tr>\n",
              "  </tbody>\n",
              "</table>\n",
              "</div>"
            ],
            "text/plain": [
              "                  id          cont1  ...         cont14           loss\n",
              "count  188318.000000  188318.000000  ...  188318.000000  188318.000000\n",
              "mean   294135.982561       0.493861  ...       0.495717    3037.337686\n",
              "std    169336.084867       0.187640  ...       0.222488    2904.086186\n",
              "min         1.000000       0.000016  ...       0.179722       0.670000\n",
              "25%    147748.250000       0.346090  ...       0.294610    1204.460000\n",
              "50%    294539.500000       0.475784  ...       0.407403    2115.570000\n",
              "75%    440680.500000       0.623912  ...       0.724623    3864.045000\n",
              "max    587633.000000       0.984975  ...       0.844848  121012.250000\n",
              "\n",
              "[8 rows x 16 columns]"
            ]
          },
          "metadata": {
            "tags": []
          },
          "execution_count": 4
        }
      ]
    },
    {
      "cell_type": "code",
      "metadata": {
        "colab": {
          "base_uri": "https://localhost:8080/"
        },
        "id": "jXACjj7wVBLL",
        "outputId": "b258a91f-7f01-4bf1-fe50-a278a714dc4a"
      },
      "source": [
        "df.shape\n"
      ],
      "execution_count": null,
      "outputs": [
        {
          "output_type": "execute_result",
          "data": {
            "text/plain": [
              "(188318, 132)"
            ]
          },
          "metadata": {
            "tags": []
          },
          "execution_count": 5
        }
      ]
    },
    {
      "cell_type": "code",
      "metadata": {
        "colab": {
          "base_uri": "https://localhost:8080/"
        },
        "id": "hyHE12MLVCpV",
        "outputId": "45126db3-8481-47be-c33c-266e09b494c9"
      },
      "source": [
        "df.dtypes\n",
        "\n"
      ],
      "execution_count": null,
      "outputs": [
        {
          "output_type": "execute_result",
          "data": {
            "text/plain": [
              "id          int64\n",
              "cat1       object\n",
              "cat2       object\n",
              "cat3       object\n",
              "cat4       object\n",
              "           ...   \n",
              "cont11    float64\n",
              "cont12    float64\n",
              "cont13    float64\n",
              "cont14    float64\n",
              "loss      float64\n",
              "Length: 132, dtype: object"
            ]
          },
          "metadata": {
            "tags": []
          },
          "execution_count": 6
        }
      ]
    },
    {
      "cell_type": "code",
      "metadata": {
        "id": "7OPcWbunWta3"
      },
      "source": [
        "#univariate analysis\n",
        "for col in df.columns:\n",
        "  print(df[col].value_counts())\n",
        "  print(df[col].nunique())\n",
        "\n",
        "#cat1 to cat72 have only two labels A and B. In most of the cases, B has very few entries\n",
        "#cat73 to cat 108 have more than two labels\n",
        "#cat109 to cat116 have many labels"
      ],
      "execution_count": null,
      "outputs": []
    },
    {
      "cell_type": "code",
      "metadata": {
        "colab": {
          "base_uri": "https://localhost:8080/"
        },
        "id": "RsfAJwcMaku9",
        "outputId": "3c41f5db-a382-409a-baf3-c1ff2f6f44df"
      },
      "source": [
        "type(df.apply(lambda x: sum(x.isnull()),axis=0))\n",
        "#null_val = [];\n",
        "#for col in df.columns:\n",
        " #  null_val.append((sum(df[col].isnull())))\n",
        "\n",
        "\n",
        "      "
      ],
      "execution_count": null,
      "outputs": [
        {
          "output_type": "execute_result",
          "data": {
            "text/plain": [
              "pandas.core.series.Series"
            ]
          },
          "metadata": {
            "tags": []
          },
          "execution_count": 3
        }
      ]
    },
    {
      "cell_type": "code",
      "metadata": {
        "colab": {
          "base_uri": "https://localhost:8080/",
          "height": 622
        },
        "id": "wqKeg1SiAb3N",
        "outputId": "8a6bfb0d-8551-4f85-fc47-53eab2d89b72"
      },
      "source": [
        "plt.figure(figsize=(13,9))\n",
        "sns.boxplot(df[\"loss\"])"
      ],
      "execution_count": null,
      "outputs": [
        {
          "output_type": "stream",
          "text": [
            "/usr/local/lib/python3.7/dist-packages/seaborn/_decorators.py:43: FutureWarning: Pass the following variable as a keyword arg: x. From version 0.12, the only valid positional argument will be `data`, and passing other arguments without an explicit keyword will result in an error or misinterpretation.\n",
            "  FutureWarning\n"
          ],
          "name": "stderr"
        },
        {
          "output_type": "execute_result",
          "data": {
            "text/plain": [
              "<matplotlib.axes._subplots.AxesSubplot at 0x7f1205b44c10>"
            ]
          },
          "metadata": {
            "tags": []
          },
          "execution_count": 9
        },
        {
          "output_type": "display_data",
          "data": {
            "image/png": "[encoded data removed]",
            "text/plain": [
              "<Figure size 936x648 with 1 Axes>"
            ]
          },
          "metadata": {
            "tags": [],
            "needs_background": "light"
          }
        }
      ]
    },
    {
      "cell_type": "code",
      "metadata": {
        "id": "qK4MxmxJfGee"
      },
      "source": [
        "#a= df.dtypes[df.columns]\n",
        "#b = range(len(list(a[:])))\n",
        "#for r in b:\n",
        " # if (a[r]) == 'object':\n",
        "  #    df[r] = df[r].astype('str')\n",
        "\n",
        "#for col in df.columns:\n",
        " # df[col] = df[col].astype('str')\n",
        "\n",
        "#df['ltv'] = df['ltv'].astype('int64')"
      ],
      "execution_count": null,
      "outputs": []
    },
    {
      "cell_type": "code",
      "metadata": {
        "colab": {
          "base_uri": "https://localhost:8080/"
        },
        "id": "OWyWiXFuZyFJ",
        "outputId": "b61b2376-8c7c-4fd3-b2c8-3eadb15f7d58"
      },
      "source": [
        "#cols = df.columns\n",
        "#for df[].hist(bins=25)\n",
        "\n",
        "#to check the skewness of the data \n",
        "# Values close to 0 show less skew\n",
        "print(df.skew())"
      ],
      "execution_count": null,
      "outputs": [
        {
          "output_type": "stream",
          "text": [
            "id       -0.002155\n",
            "cont1     0.516424\n",
            "cont2    -0.310941\n",
            "cont3    -0.010002\n",
            "cont4     0.416096\n",
            "cont5     0.681622\n",
            "cont6     0.461214\n",
            "cont7     0.826053\n",
            "cont8     0.676634\n",
            "cont9     1.072429\n",
            "cont10    0.355001\n",
            "cont11    0.280821\n",
            "cont12    0.291992\n",
            "cont13    0.380742\n",
            "cont14    0.248674\n",
            "loss      3.794958\n",
            "dtype: float64\n"
          ],
          "name": "stdout"
        }
      ]
    },
    {
      "cell_type": "code",
      "metadata": {
        "colab": {
          "base_uri": "https://localhost:8080/",
          "height": 350
        },
        "id": "_QT8F2j060GF",
        "outputId": "33d9eac8-1fc2-4a11-91c6-521ca24c2c7d"
      },
      "source": [
        "#creating a desnity plot for loss to check and resolve skewness \n",
        "#we need to make it into a normal distribution\n",
        "\n",
        "sns.kdeplot(df['loss'], bw=0.5)\n"
      ],
      "execution_count": null,
      "outputs": [
        {
          "output_type": "stream",
          "text": [
            "/usr/local/lib/python3.7/dist-packages/seaborn/distributions.py:1657: FutureWarning: The `bw` parameter is deprecated in favor of `bw_method` and `bw_adjust`. Using 0.5 for `bw_method`, but please see the docs for the new parameters and update your code.\n",
            "  warnings.warn(msg, FutureWarning)\n"
          ],
          "name": "stderr"
        },
        {
          "output_type": "execute_result",
          "data": {
            "text/plain": [
              "<matplotlib.axes._subplots.AxesSubplot at 0x7f1205579290>"
            ]
          },
          "metadata": {
            "tags": []
          },
          "execution_count": 12
        },
        {
          "output_type": "display_data",
          "data": {
            "image/png": "[encoded data removed]",
            "text/plain": [
              "<Figure size 432x288 with 1 Axes>"
            ]
          },
          "metadata": {
            "tags": [],
            "needs_background": "light"
          }
        }
      ]
    },
    {
      "cell_type": "code",
      "metadata": {
        "colab": {
          "base_uri": "https://localhost:8080/",
          "height": 350
        },
        "id": "Q88nkuPuEccq",
        "outputId": "7beec645-0ac1-49c5-a7a5-d1abaa85e991"
      },
      "source": [
        "#logarithmic transformation is said to be the option in right skewness\n",
        "\n",
        "df[\"loss\"] = np.log1p(df[\"loss\"])\n",
        "\n",
        "sns.kdeplot(df['loss'], bw=0.5)\n"
      ],
      "execution_count": null,
      "outputs": [
        {
          "output_type": "stream",
          "text": [
            "/usr/local/lib/python3.7/dist-packages/seaborn/distributions.py:1657: FutureWarning: The `bw` parameter is deprecated in favor of `bw_method` and `bw_adjust`. Using 0.5 for `bw_method`, but please see the docs for the new parameters and update your code.\n",
            "  warnings.warn(msg, FutureWarning)\n"
          ],
          "name": "stderr"
        },
        {
          "output_type": "execute_result",
          "data": {
            "text/plain": [
              "<matplotlib.axes._subplots.AxesSubplot at 0x7f6df82182d0>"
            ]
          },
          "metadata": {
            "tags": []
          },
          "execution_count": 4
        },
        {
          "output_type": "display_data",
          "data": {
            "image/png": "[encoded data removed]",
            "text/plain": [
              "<Figure size 432x288 with 1 Axes>"
            ]
          },
          "metadata": {
            "tags": [],
            "needs_background": "light"
          }
        }
      ]
    },
    {
      "cell_type": "code",
      "metadata": {
        "colab": {
          "base_uri": "https://localhost:8080/",
          "height": 350
        },
        "id": "nOP17otKFMiF",
        "outputId": "2d59ff4c-c7d9-4f48-9d2b-dc1031f5d779"
      },
      "source": [
        "#since logarthmic transfor is giving rise to negative skewness we shall do square root transform\n",
        "df[\"loss\"] = np.expm1(df[\"loss\"])\n",
        "df[\"loss\"] = np.sqrt(df[\"loss\"])\n",
        "\n",
        "sns.kdeplot(df['loss'], bw=0.5)"
      ],
      "execution_count": null,
      "outputs": [
        {
          "output_type": "stream",
          "text": [
            "/usr/local/lib/python3.7/dist-packages/seaborn/distributions.py:1657: FutureWarning: The `bw` parameter is deprecated in favor of `bw_method` and `bw_adjust`. Using 0.5 for `bw_method`, but please see the docs for the new parameters and update your code.\n",
            "  warnings.warn(msg, FutureWarning)\n"
          ],
          "name": "stderr"
        },
        {
          "output_type": "execute_result",
          "data": {
            "text/plain": [
              "<matplotlib.axes._subplots.AxesSubplot at 0x7f6dec561610>"
            ]
          },
          "metadata": {
            "tags": []
          },
          "execution_count": 5
        },
        {
          "output_type": "display_data",
          "data": {
            "image/png": "[encoded data removed]",
            "text/plain": [
              "<Figure size 432x288 with 1 Axes>"
            ]
          },
          "metadata": {
            "tags": [],
            "needs_background": "light"
          }
        }
      ]
    },
    {
      "cell_type": "code",
      "metadata": {
        "colab": {
          "base_uri": "https://localhost:8080/"
        },
        "id": "BQqdS5UqFzF4",
        "outputId": "642e56a7-5d1f-4d69-a933-9cd9212f532e"
      },
      "source": [
        "print(df.skew())\n",
        "\n",
        "#even though square root transformation is giving us negative skewnesss but the value -0.06 is acceptable"
      ],
      "execution_count": null,
      "outputs": [
        {
          "output_type": "stream",
          "text": [
            "id       -0.002155\n",
            "cont1     0.516424\n",
            "cont2    -0.310941\n",
            "cont3    -0.010002\n",
            "cont4     0.416096\n",
            "cont5     0.681622\n",
            "cont6     0.461214\n",
            "cont7     0.826053\n",
            "cont8     0.676634\n",
            "cont9     1.072429\n",
            "cont10    0.355001\n",
            "cont11    0.280821\n",
            "cont12    0.291992\n",
            "cont13    0.380742\n",
            "cont14    0.248674\n",
            "loss      1.265885\n",
            "dtype: float64\n"
          ],
          "name": "stdout"
        }
      ]
    },
    {
      "cell_type": "markdown",
      "metadata": {
        "id": "4475vilB62KL"
      },
      "source": [
        "A density plot is a representation of the distribution of a numeric variable. It uses a kernel density estimate to show the probability density function of the variable\n",
        ".\n",
        "\n",
        "It is a smoothed version of the histogram and is used in the same concept. "
      ]
    },
    {
      "cell_type": "markdown",
      "metadata": {
        "id": "3hTC23RBeYk3"
      },
      "source": [
        "So in skewed data, the tail region may act as an outlier for the statistical model and we know that outliers adversely affect the model’s performance especially regression-based models. There are statistical model that are robust to outlier like a Tree-based models but it will limit the possibility to try other models. So there is a necessity to transform the skewed data to close enough to a Gaussian distribution or Normal distribution. This will allow us to try more number of statistical model.\n",
        "\n",
        "If skewness is less than -1 or greater than 1, the distribution is highly skewed.\n",
        "If skewness is between -1 and -0.5 or between 0.5 and 1, the distribution is moderately skewed.\n",
        "If skewness is between -0.5 and 0.5, the distribution is approximately symmetric.\n"
      ]
    },
    {
      "cell_type": "code",
      "metadata": {
        "colab": {
          "base_uri": "https://localhost:8080/"
        },
        "id": "6QP3NfeqgBdt",
        "outputId": "98cdce08-b17e-47b0-f4fd-36bff2e0705c"
      },
      "source": [
        "df = df.dropna(axis=0)\n",
        "df.shape\n"
      ],
      "execution_count": null,
      "outputs": [
        {
          "output_type": "execute_result",
          "data": {
            "text/plain": [
              "(188318, 132)"
            ]
          },
          "metadata": {
            "tags": []
          },
          "execution_count": 6
        }
      ]
    },
    {
      "cell_type": "code",
      "metadata": {
        "colab": {
          "base_uri": "https://localhost:8080/"
        },
        "id": "eqYa7FtAX8zM",
        "outputId": "1c7b3c21-e88a-4f5e-e447-f10bae170501"
      },
      "source": [
        "# calculate correlation matrix\n",
        "data_corr = df.corr()\n",
        "\n",
        "# Set the threshold to select only highly correlated attributes\n",
        "threshold = 0.6\n",
        "\n",
        "# List of pairs along with correlation above threshold\n",
        "corr_list = []\n",
        "cols = data_corr.shape[1]\n",
        "#Search for the highly correlated pairs\n",
        "for i in range(0,cols): #for 'size' features\n",
        "    for j in range(i+1,cols): #avoid repetition\n",
        "        if (data_corr.iloc[i,j] >= threshold and data_corr.iloc[i,j] < 1) or (data_corr.iloc[i,j] < 0 and data_corr.iloc[i,j] <= -threshold):\n",
        "            corr_list.append([data_corr.iloc[i,j],data_corr.columns[i],data_corr.columns[j]]) #store correlation and columns index\n",
        "\n",
        "#Sort to show higher ones first            \n",
        "s_corr_list = sorted(corr_list,key=lambda x: -abs(x[0]))\n",
        "\n",
        "#Print correlations and column names\n",
        "for v,i,j in s_corr_list:\n",
        "  print (\"%s and %s = %.2f\" % (i,j,v))\n",
        "\n"
      ],
      "execution_count": null,
      "outputs": [
        {
          "output_type": "stream",
          "text": [
            "cont11 and cont12 = 0.99\n",
            "cont1 and cont9 = 0.93\n",
            "cont6 and cont10 = 0.88\n",
            "cont6 and cont13 = 0.82\n",
            "cont1 and cont10 = 0.81\n",
            "cont6 and cont9 = 0.80\n",
            "cont9 and cont10 = 0.79\n",
            "cont6 and cont12 = 0.79\n",
            "cont6 and cont11 = 0.77\n",
            "cont1 and cont6 = 0.76\n",
            "cont7 and cont11 = 0.75\n",
            "cont7 and cont12 = 0.74\n",
            "cont10 and cont12 = 0.71\n",
            "cont10 and cont13 = 0.71\n",
            "cont10 and cont11 = 0.70\n",
            "cont6 and cont7 = 0.66\n",
            "cont9 and cont13 = 0.64\n",
            "cont9 and cont12 = 0.63\n",
            "cont1 and cont12 = 0.61\n",
            "cont9 and cont11 = 0.61\n"
          ],
          "name": "stdout"
        }
      ]
    },
    {
      "cell_type": "code",
      "metadata": {
        "id": "0dpGFfwdHWsO",
        "colab": {
          "base_uri": "https://localhost:8080/",
          "height": 311
        },
        "outputId": "48bb3053-0c2c-4668-bf7b-32516dc78adb"
      },
      "source": [
        "# plot the heatmap\n",
        "sns.heatmap(data_corr, xticklabels=data_corr.columns, yticklabels=data_corr.columns, annot=True, cmap=sns.diverging_palette(220, 20, as_cmap=True))"
      ],
      "execution_count": null,
      "outputs": [
        {
          "output_type": "execute_result",
          "data": {
            "text/plain": [
              "<matplotlib.axes._subplots.AxesSubplot at 0x7f1205c06a50>"
            ]
          },
          "metadata": {
            "tags": []
          },
          "execution_count": 18
        },
        {
          "output_type": "display_data",
          "data": {
            "image/png": "[encoded data removed]",
            "text/plain": [
              "<Figure size 432x288 with 2 Axes>"
            ]
          },
          "metadata": {
            "tags": [],
            "needs_background": "light"
          }
        }
      ]
    },
    {
      "cell_type": "code",
      "metadata": {
        "id": "u4pEeoHf034o"
      },
      "source": [
        "for v,i,j in s_corr_list:\n",
        "    sns.pairplot(df, size=6, x_vars=i,y_vars=j )\n",
        "    plt.show()"
      ],
      "execution_count": null,
      "outputs": []
    },
    {
      "cell_type": "code",
      "metadata": {
        "id": "39BjhYuXrLhl",
        "colab": {
          "base_uri": "https://localhost:8080/"
        },
        "outputId": "ec5e2dfb-0ae7-4f5a-8197-b763f7716349"
      },
      "source": [
        "# one-hot encoding of categorical features\n",
        "from sklearn.preprocessing import OneHotEncoder\n",
        "\n",
        "# get categorical features and review number of unique values\n",
        "cat = df.select_dtypes(exclude=np.number)\n",
        "print(\"Number of unique values per categorical feature:\\n\", cat.nunique())\n",
        "\n",
        "# use one hot encoder\n",
        "enc = OneHotEncoder(sparse=False).fit(cat)\n",
        "cat_encoded = pd.DataFrame(enc.transform(cat))\n",
        "cat_encoded.columns = enc.get_feature_names(cat.columns)\n",
        "\n",
        "# merge with numeric data\n",
        "num = df.drop(columns=cat.columns)\n",
        "df2 = pd.concat([cat_encoded, num], axis=1)\n"
      ],
      "execution_count": null,
      "outputs": [
        {
          "output_type": "stream",
          "text": [
            "Number of unique values per categorical feature:\n",
            " cat1        2\n",
            "cat2        2\n",
            "cat3        2\n",
            "cat4        2\n",
            "cat5        2\n",
            "         ... \n",
            "cat112     51\n",
            "cat113     61\n",
            "cat114     19\n",
            "cat115     23\n",
            "cat116    326\n",
            "Length: 116, dtype: int64\n"
          ],
          "name": "stdout"
        }
      ]
    },
    {
      "cell_type": "markdown",
      "metadata": {
        "id": "iGduNeQs7lnn"
      },
      "source": [
        "Loss Prediction Models\n",
        "\n",
        "1. Linear Regression\n",
        "2. LASSO\n",
        "3. Ridge Regression\n",
        "4. XG BOOST\n",
        "\n",
        "\n"
      ]
    },
    {
      "cell_type": "code",
      "metadata": {
        "id": "XCV5_NxGCkgP"
      },
      "source": [
        "#Splitting the data into test and train\n",
        "from sklearn.model_selection import train_test_split\n",
        "train, test = train_test_split(df2,test_size = 0.33)\n",
        "y_train = train['loss']\n",
        "y_test = test['loss']\n",
        "\n",
        "X_train = train.drop(columns='loss')\n",
        "X_test = test.drop(columns='loss')"
      ],
      "execution_count": null,
      "outputs": []
    },
    {
      "cell_type": "code",
      "metadata": {
        "id": "9uwAOzvQQh1j"
      },
      "source": [
        "import eli5\n",
        "from eli5.sklearn import PermutationImportance\n",
        "\n",
        "perm = PermutationImportance(model, random_state=1).fit(X_test, y_test)\n",
        "eli5.show_weights(perm, feature_names = X_test.columns.tolist(), top=5)"
      ],
      "execution_count": null,
      "outputs": []
    },
    {
      "cell_type": "code",
      "metadata": {
        "colab": {
          "base_uri": "https://localhost:8080/"
        },
        "id": "Ko2A24NWeGIr",
        "outputId": "cc79d367-83a2-4ac5-d91d-6d403870c130"
      },
      "source": [
        "import statsmodels.api as sm\n",
        "\n",
        "model = sm.OLS(y_train, X_train).fit()\n",
        "print(model.summary())"
      ],
      "execution_count": null,
      "outputs": [
        {
          "output_type": "stream",
          "text": [
            "/usr/local/lib/python3.7/dist-packages/statsmodels/tools/_testing.py:19: FutureWarning: pandas.util.testing is deprecated. Use the functions in the public API at pandas.testing instead.\n",
            "  import pandas.util.testing as tm\n"
          ],
          "name": "stderr"
        }
      ]
    },
    {
      "cell_type": "markdown",
      "metadata": {
        "id": "KzgO1-_s5wYr"
      },
      "source": [
        "Variables cont4, cont5, cont6, cont 10 , cont 12, cont 14 are not significant as their p-values are high.\n",
        "\n",
        "We can ignore cont5 a sit has high p-value \n",
        "\n",
        "We can remove cont12 as it is highly correlated with cont11\n",
        "\n",
        "We can remove cont9 as it is highly correlated with cont1\n",
        "\n",
        "We can remove cont6 and cont10 as both are highly correlated and have higb p- values.\n"
      ]
    },
    {
      "cell_type": "markdown",
      "metadata": {
        "id": "kLB2WG2T6N7L"
      },
      "source": [
        "cont11 and cont12 = 0.99\n",
        "cont1 and cont9 = 0.93\n",
        "cont6 and cont10 = 0.88\n",
        "cont6 and cont13 = 0.82\n",
        "cont1 and cont10 = 0.81\n",
        "cont6 and cont9 = 0.80\n",
        "cont9 and cont10 = 0.79\n",
        "cont6 and cont12 = 0.79\n",
        "cont6 and cont11 = 0.77\n",
        "cont1 and cont6 = 0.76\n",
        "cont7 and cont11 = 0.75\n",
        "cont7 and cont12 = 0.74\n",
        "cont10 and cont12 = 0.71\n",
        "cont10 and cont13 = 0.71\n",
        "cont10 and cont11 = 0.70\n",
        "cont6 and cont7 = 0.66\n",
        "cont9 and cont13 = 0.64\n",
        "cont9 and cont12 = 0.63\n",
        "cont1 and cont12 = 0.61\n",
        "cont9 and cont11 = 0.6"
      ]
    },
    {
      "cell_type": "code",
      "metadata": {
        "id": "YcXtcjCHWY-7",
        "colab": {
          "base_uri": "https://localhost:8080/",
          "height": 232
        },
        "outputId": "e51a5284-2081-4421-e386-64f7a21ea45c"
      },
      "source": [
        "from sklearn.linear_model import LinearRegression\n",
        "\n",
        "\n",
        "model = LinearRegression()\n",
        "\n",
        "#model = LinearRegression(fit_intercept=True, normalize=True,copy_X=True,n_jobs=-1)\n",
        "\n",
        "\n",
        "model.fit(X_train, y_train)\n",
        "\n",
        "y_pred = model.predict(X_test)\n",
        "\n",
        "from sklearn.metrics import mean_absolute_error\n",
        "result = mean_absolute_error(y_test,y_pred)\n",
        "print(result)\n"
      ],
      "execution_count": null,
      "outputs": [
        {
          "output_type": "error",
          "ename": "NameError",
          "evalue": "ignored",
          "traceback": [
            "\u001b[0;31m---------------------------------------------------------------------------\u001b[0m",
            "\u001b[0;31mNameError\u001b[0m                                 Traceback (most recent call last)",
            "\u001b[0;32m<ipython-input-1-5bcb7a73c4eb>\u001b[0m in \u001b[0;36m<module>\u001b[0;34m()\u001b[0m\n\u001b[1;32m      7\u001b[0m \u001b[0;34m\u001b[0m\u001b[0m\n\u001b[1;32m      8\u001b[0m \u001b[0;34m\u001b[0m\u001b[0m\n\u001b[0;32m----> 9\u001b[0;31m \u001b[0mmodel\u001b[0m\u001b[0;34m.\u001b[0m\u001b[0mfit\u001b[0m\u001b[0;34m(\u001b[0m\u001b[0mX_train\u001b[0m\u001b[0;34m,\u001b[0m \u001b[0my_train\u001b[0m\u001b[0;34m)\u001b[0m\u001b[0;34m\u001b[0m\u001b[0;34m\u001b[0m\u001b[0m\n\u001b[0m\u001b[1;32m     10\u001b[0m \u001b[0;34m\u001b[0m\u001b[0m\n\u001b[1;32m     11\u001b[0m \u001b[0my_pred\u001b[0m \u001b[0;34m=\u001b[0m \u001b[0mmodel\u001b[0m\u001b[0;34m.\u001b[0m\u001b[0mpredict\u001b[0m\u001b[0;34m(\u001b[0m\u001b[0mX_test\u001b[0m\u001b[0;34m)\u001b[0m\u001b[0;34m\u001b[0m\u001b[0;34m\u001b[0m\u001b[0m\n",
            "\u001b[0;31mNameError\u001b[0m: name 'X_train' is not defined"
          ]
        }
      ]
    },
    {
      "cell_type": "code",
      "metadata": {
        "id": "X8ZoDPZf9lag"
      },
      "source": [
        "from sklearn.linear_model import LinearRegression\n",
        "\n",
        "model2 = LinearRegression()\n",
        "\n",
        "#model2 = LinearRegression(fit_intercept=True, normalize=True,n_jobs=-1)\n",
        "\n",
        "\n",
        "model2.fit(X_train.drop(columns = ['cont5', 'cont6', 'cont9', 'cont10', 'cont12']), y_train)\n",
        "\n",
        "y_pred_features = model2.predict(X_test.drop(columns = ['cont5', 'cont6', 'cont9', 'cont10', 'cont12']))\n",
        "\n",
        "from sklearn.metrics import mean_absolute_error\n",
        "result_pred = mean_absolute_error(y_test,y_pred_features)\n",
        "print(result_pred)"
      ],
      "execution_count": null,
      "outputs": []
    },
    {
      "cell_type": "code",
      "metadata": {
        "id": "UDK865W0JbmH"
      },
      "source": [
        "result_pred"
      ],
      "execution_count": null,
      "outputs": []
    },
    {
      "cell_type": "code",
      "metadata": {
        "id": "s_vPr6M97MqA"
      },
      "source": [
        ""
      ],
      "execution_count": null,
      "outputs": []
    },
    {
      "cell_type": "code",
      "metadata": {
        "id": "dXwxlp1M-0Q4"
      },
      "source": [
        "from sklearn.linear_model import Ridge\n",
        "model3 = Ridge(alpha=1.0)\n",
        "model3.fit(X_train.drop(columns = ['cont5', 'cont6', 'cont9', 'cont10', 'cont12']), y_train)\n",
        "y_pred_ridge = model3.predict(X_test.drop(columns = ['cont5', 'cont6', 'cont9', 'cont10', 'cont12']))\n",
        "result_ridge = mean_absolute_error(y_test,y_pred_ridge)\n",
        "print(result_ridge)"
      ],
      "execution_count": null,
      "outputs": []
    },
    {
      "cell_type": "code",
      "metadata": {
        "id": "RhOUFENlA2BQ"
      },
      "source": [
        "from sklearn.linear_model import Lasso\n",
        "\n",
        "model4 = Lasso(alpha=1.0)\n",
        "model4.fit(X_train.drop(columns = ['cont5', 'cont6', 'cont9', 'cont10', 'cont12']), y_train)\n",
        "y_pred_lasso = model4.predict(X_test.drop(columns = ['cont5', 'cont6', 'cont9', 'cont10', 'cont12']))\n",
        "result_lasso = mean_absolute_error(y_test,y_pred_lasso)\n",
        "print(result_lasso)"
      ],
      "execution_count": null,
      "outputs": []
    },
    {
      "cell_type": "markdown",
      "metadata": {
        "id": "umoiFKb_Xrzu"
      },
      "source": [
        "**Ensemble methods **\n",
        "1. Random Forest\n",
        "2. Boosting\n",
        "3. XG BOOST\n",
        "4. Light GBM"
      ]
    },
    {
      "cell_type": "code",
      "metadata": {
        "id": "vRSar2sLXHZg"
      },
      "source": [
        "from sklearn.ensemble import RandomForestRegressor\n",
        "\n",
        "seed = 10\n",
        "model5 = RandomForestRegressor(n_jobs=-1,n_estimators = 10,random_state=seed)\n",
        "model5.fit(X_train.drop(columns = ['cont5', 'cont6', 'cont9', 'cont10', 'cont12']), y_train)\n",
        "y_pred_rf = model5.predict(X_test.drop(columns = ['cont5', 'cont6', 'cont9', 'cont10', 'cont12']))\n",
        "result_rf = mean_absolute_error(y_test,y_pred_rf)"
      ],
      "execution_count": null,
      "outputs": []
    },
    {
      "cell_type": "code",
      "metadata": {
        "id": "rRI2rpUEA_sF"
      },
      "source": [
        "result_rf \n"
      ],
      "execution_count": null,
      "outputs": []
    },
    {
      "cell_type": "code",
      "metadata": {
        "id": "qt0ae7SIgftT"
      },
      "source": [
        "from sklearn.ensemble import BaggingRegressor\n",
        "\n",
        "seed = 10\n",
        "model6 = BaggingRegressor(n_jobs=-1,random_state=seed)\n",
        "model6.fit(X_train.drop(columns = ['cont5', 'cont6', 'cont9', 'cont10', 'cont12']), y_train)\n",
        "y_pred_bag = model6.predict(X_test.drop(columns = ['cont5', 'cont6', 'cont9', 'cont10', 'cont12']))\n",
        "result_bag = mean_absolute_error(y_test,y_pred_bag)"
      ],
      "execution_count": null,
      "outputs": []
    },
    {
      "cell_type": "code",
      "metadata": {
        "id": "1YL1gwiWjuYH"
      },
      "source": [
        "from xgboost import XGBRegressor\n",
        "seed=10\n",
        "\n",
        "\n",
        "n_estimator = np.array([10,20,30,50,80,100,150,200])\n",
        "for est in n_estimator:\n",
        "\n",
        "    model7 = XGBRegressor(n_jobs=-1,n_estimators= n_estimator,random_state=seed)\n",
        "    model7.fit(X_train.drop(columns = ['cont5', 'cont6', 'cont9', 'cont10', 'cont12']), y_train)\n",
        "    y_pred_xgb = model7.predict(X_test.drop(columns = ['cont5', 'cont6', 'cont9', 'cont10', 'cont12']))\n",
        "    result_xgb = mean_absolute_error(y_test,y_pred_xgb)\n",
        "\n",
        "    print('MAE with' + n_estimator + 'is' + result_xgb)\n",
        "\n",
        "\n",
        "\n",
        "\n",
        "\n"
      ],
      "execution_count": null,
      "outputs": []
    },
    {
      "cell_type": "code",
      "metadata": {
        "id": "kCVyzhZSIvWB"
      },
      "source": [
        ""
      ],
      "execution_count": null,
      "outputs": []
    }
  ]
}